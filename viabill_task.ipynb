{
 "cells": [
  {
   "cell_type": "code",
   "execution_count": 1,
   "id": "8ceb91e8",
   "metadata": {},
   "outputs": [
    {
     "data": {
      "text/html": [
       "<style>.container { width:97% !important; }</style>"
      ],
      "text/plain": [
       "<IPython.core.display.HTML object>"
      ]
     },
     "metadata": {},
     "output_type": "display_data"
    }
   ],
   "source": [
    "import pandas as pd\n",
    "import numpy as np\n",
    "import pandasql as psql\n",
    "import sqlite3\n",
    "\n",
    "import matplotlib.pyplot as plt\n",
    "import seaborn as sns\n",
    "sns.set_theme(style=\"darkgrid\")\n",
    "\n",
    "from sklearn.model_selection import train_test_split\n",
    "from sklearn.metrics import roc_auc_score\n",
    "\n",
    "from timeit import default_timer as timer\n",
    "\n",
    "import warnings\n",
    "warnings.filterwarnings(\"ignore\")\n",
    "\n",
    "from IPython.core.display import display, HTML\n",
    "display(HTML(\"<style>.container { width:97% !important; }</style>\"))\n",
    "pd.options.display.float_format = '{:,.4f}'.format"
   ]
  },
  {
   "cell_type": "markdown",
   "id": "68f3cf5a",
   "metadata": {},
   "source": [
    "# Load the data"
   ]
  },
  {
   "cell_type": "code",
   "execution_count": 2,
   "id": "832859b0",
   "metadata": {},
   "outputs": [],
   "source": [
    "db = sqlite3.connect('viabill.db')\n",
    "customers = pd.read_sql_query(\"SELECT * FROM customers\", db)\n",
    "transactions = pd.read_sql_query(\"SELECT * FROM transactions\", db)"
   ]
  },
  {
   "cell_type": "code",
   "execution_count": 3,
   "id": "fcf4bc9c",
   "metadata": {},
   "outputs": [],
   "source": [
    "def describe_plus(data):\n",
    "    \n",
    "    \"\"\"\n",
    "    Extended version of the basic describe function.\n",
    "    \"\"\"\n",
    "    \n",
    "    describe = data.describe(include='all').T\n",
    "    unique = []\n",
    "    missing = []\n",
    "    \n",
    "    for c in list(describe.index):\n",
    "        \n",
    "        unique.append(data[c].nunique())\n",
    "        missing.append(data[c].isna().sum())\n",
    "        \n",
    "    describe['unique'] = unique\n",
    "    describe['missing'] = missing\n",
    "    describe['count'] = describe['count'].astype(int)\n",
    "    \n",
    "    return describe[['count','unique','missing']+list(describe.columns[4:11])]"
   ]
  },
  {
   "cell_type": "markdown",
   "id": "69350330",
   "metadata": {},
   "source": [
    "Descriptive statistics of customer-related variables"
   ]
  },
  {
   "cell_type": "code",
   "execution_count": 4,
   "id": "77a9a1d5",
   "metadata": {},
   "outputs": [
    {
     "data": {
      "text/html": [
       "<div>\n",
       "<style scoped>\n",
       "    .dataframe tbody tr th:only-of-type {\n",
       "        vertical-align: middle;\n",
       "    }\n",
       "\n",
       "    .dataframe tbody tr th {\n",
       "        vertical-align: top;\n",
       "    }\n",
       "\n",
       "    .dataframe thead th {\n",
       "        text-align: right;\n",
       "    }\n",
       "</style>\n",
       "<table border=\"1\" class=\"dataframe\">\n",
       "  <thead>\n",
       "    <tr style=\"text-align: right;\">\n",
       "      <th></th>\n",
       "      <th>count</th>\n",
       "      <th>unique</th>\n",
       "      <th>missing</th>\n",
       "      <th>mean</th>\n",
       "      <th>std</th>\n",
       "      <th>min</th>\n",
       "      <th>25%</th>\n",
       "      <th>50%</th>\n",
       "      <th>75%</th>\n",
       "      <th>max</th>\n",
       "    </tr>\n",
       "  </thead>\n",
       "  <tbody>\n",
       "    <tr>\n",
       "      <th>customerID</th>\n",
       "      <td>500000</td>\n",
       "      <td>500000</td>\n",
       "      <td>0</td>\n",
       "      <td>250,000.5000</td>\n",
       "      <td>144,337.7116</td>\n",
       "      <td>1.0000</td>\n",
       "      <td>125,000.7500</td>\n",
       "      <td>250,000.5000</td>\n",
       "      <td>375,000.2500</td>\n",
       "      <td>500,000.0000</td>\n",
       "    </tr>\n",
       "    <tr>\n",
       "      <th>sex</th>\n",
       "      <td>500000</td>\n",
       "      <td>3</td>\n",
       "      <td>0</td>\n",
       "      <td>1.1504</td>\n",
       "      <td>0.4778</td>\n",
       "      <td>0.0000</td>\n",
       "      <td>1.0000</td>\n",
       "      <td>1.0000</td>\n",
       "      <td>1.0000</td>\n",
       "      <td>2.0000</td>\n",
       "    </tr>\n",
       "    <tr>\n",
       "      <th>age</th>\n",
       "      <td>500000</td>\n",
       "      <td>85</td>\n",
       "      <td>0</td>\n",
       "      <td>44.6305</td>\n",
       "      <td>16.1783</td>\n",
       "      <td>5.0000</td>\n",
       "      <td>27.0000</td>\n",
       "      <td>50.0000</td>\n",
       "      <td>58.0000</td>\n",
       "      <td>90.0000</td>\n",
       "    </tr>\n",
       "    <tr>\n",
       "      <th>residentialAddress</th>\n",
       "      <td>500000</td>\n",
       "      <td>396022</td>\n",
       "      <td>0</td>\n",
       "      <td>NaN</td>\n",
       "      <td>NaN</td>\n",
       "      <td>NaN</td>\n",
       "      <td>NaN</td>\n",
       "      <td>NaN</td>\n",
       "      <td>NaN</td>\n",
       "      <td>NaN</td>\n",
       "    </tr>\n",
       "    <tr>\n",
       "      <th>postalAddress</th>\n",
       "      <td>500000</td>\n",
       "      <td>389469</td>\n",
       "      <td>0</td>\n",
       "      <td>NaN</td>\n",
       "      <td>NaN</td>\n",
       "      <td>NaN</td>\n",
       "      <td>NaN</td>\n",
       "      <td>NaN</td>\n",
       "      <td>NaN</td>\n",
       "      <td>NaN</td>\n",
       "    </tr>\n",
       "    <tr>\n",
       "      <th>income</th>\n",
       "      <td>490025</td>\n",
       "      <td>1001</td>\n",
       "      <td>9975</td>\n",
       "      <td>50,000.0392</td>\n",
       "      <td>28,899.1197</td>\n",
       "      <td>0.0000</td>\n",
       "      <td>25,000.0000</td>\n",
       "      <td>50,000.0000</td>\n",
       "      <td>75,000.0000</td>\n",
       "      <td>100,000.0000</td>\n",
       "    </tr>\n",
       "  </tbody>\n",
       "</table>\n",
       "</div>"
      ],
      "text/plain": [
       "                     count  unique  missing         mean          std    min  \\\n",
       "customerID          500000  500000        0 250,000.5000 144,337.7116 1.0000   \n",
       "sex                 500000       3        0       1.1504       0.4778 0.0000   \n",
       "age                 500000      85        0      44.6305      16.1783 5.0000   \n",
       "residentialAddress  500000  396022        0          NaN          NaN    NaN   \n",
       "postalAddress       500000  389469        0          NaN          NaN    NaN   \n",
       "income              490025    1001     9975  50,000.0392  28,899.1197 0.0000   \n",
       "\n",
       "                            25%          50%          75%          max  \n",
       "customerID         125,000.7500 250,000.5000 375,000.2500 500,000.0000  \n",
       "sex                      1.0000       1.0000       1.0000       2.0000  \n",
       "age                     27.0000      50.0000      58.0000      90.0000  \n",
       "residentialAddress          NaN          NaN          NaN          NaN  \n",
       "postalAddress               NaN          NaN          NaN          NaN  \n",
       "income              25,000.0000  50,000.0000  75,000.0000 100,000.0000  "
      ]
     },
     "execution_count": 4,
     "metadata": {},
     "output_type": "execute_result"
    }
   ],
   "source": [
    "describe_plus(customers)"
   ]
  },
  {
   "cell_type": "markdown",
   "id": "df190740",
   "metadata": {},
   "source": [
    "Filter out those customers who are under 18 years old based on the Terms and Conditions at ViaBill"
   ]
  },
  {
   "cell_type": "code",
   "execution_count": 5,
   "id": "c1a07c43",
   "metadata": {},
   "outputs": [],
   "source": [
    "customers = customers.loc[customers['age'] >= 18].copy()"
   ]
  },
  {
   "cell_type": "markdown",
   "id": "e9b1df97",
   "metadata": {},
   "source": [
    "Descriptive statistics of transaction-related variables"
   ]
  },
  {
   "cell_type": "code",
   "execution_count": 6,
   "id": "04baf0b0",
   "metadata": {},
   "outputs": [
    {
     "data": {
      "text/html": [
       "<div>\n",
       "<style scoped>\n",
       "    .dataframe tbody tr th:only-of-type {\n",
       "        vertical-align: middle;\n",
       "    }\n",
       "\n",
       "    .dataframe tbody tr th {\n",
       "        vertical-align: top;\n",
       "    }\n",
       "\n",
       "    .dataframe thead th {\n",
       "        text-align: right;\n",
       "    }\n",
       "</style>\n",
       "<table border=\"1\" class=\"dataframe\">\n",
       "  <thead>\n",
       "    <tr style=\"text-align: right;\">\n",
       "      <th></th>\n",
       "      <th>count</th>\n",
       "      <th>unique</th>\n",
       "      <th>missing</th>\n",
       "      <th>mean</th>\n",
       "      <th>std</th>\n",
       "      <th>min</th>\n",
       "      <th>25%</th>\n",
       "      <th>50%</th>\n",
       "      <th>75%</th>\n",
       "      <th>max</th>\n",
       "    </tr>\n",
       "  </thead>\n",
       "  <tbody>\n",
       "    <tr>\n",
       "      <th>transactionID</th>\n",
       "      <td>2000000</td>\n",
       "      <td>2000000</td>\n",
       "      <td>0</td>\n",
       "      <td>1,000,000.5000</td>\n",
       "      <td>577,350.4135</td>\n",
       "      <td>1.0000</td>\n",
       "      <td>500,000.7500</td>\n",
       "      <td>1,000,000.5000</td>\n",
       "      <td>1,500,000.2500</td>\n",
       "      <td>2,000,000.0000</td>\n",
       "    </tr>\n",
       "    <tr>\n",
       "      <th>shopID</th>\n",
       "      <td>2000000</td>\n",
       "      <td>900</td>\n",
       "      <td>0</td>\n",
       "      <td>549.2549</td>\n",
       "      <td>259.8474</td>\n",
       "      <td>100.0000</td>\n",
       "      <td>324.0000</td>\n",
       "      <td>549.0000</td>\n",
       "      <td>774.0000</td>\n",
       "      <td>999.0000</td>\n",
       "    </tr>\n",
       "    <tr>\n",
       "      <th>customerID</th>\n",
       "      <td>2000000</td>\n",
       "      <td>490534</td>\n",
       "      <td>0</td>\n",
       "      <td>NaN</td>\n",
       "      <td>NaN</td>\n",
       "      <td>NaN</td>\n",
       "      <td>NaN</td>\n",
       "      <td>NaN</td>\n",
       "      <td>NaN</td>\n",
       "      <td>NaN</td>\n",
       "    </tr>\n",
       "    <tr>\n",
       "      <th>price</th>\n",
       "      <td>2000000</td>\n",
       "      <td>198</td>\n",
       "      <td>0</td>\n",
       "      <td>101.5293</td>\n",
       "      <td>57.1758</td>\n",
       "      <td>3.0000</td>\n",
       "      <td>52.0000</td>\n",
       "      <td>102.0000</td>\n",
       "      <td>151.0000</td>\n",
       "      <td>200.0000</td>\n",
       "    </tr>\n",
       "    <tr>\n",
       "      <th>paytmentStatus1</th>\n",
       "      <td>2000000</td>\n",
       "      <td>3</td>\n",
       "      <td>0</td>\n",
       "      <td>0.1176</td>\n",
       "      <td>0.3607</td>\n",
       "      <td>0.0000</td>\n",
       "      <td>0.0000</td>\n",
       "      <td>0.0000</td>\n",
       "      <td>0.0000</td>\n",
       "      <td>2.0000</td>\n",
       "    </tr>\n",
       "    <tr>\n",
       "      <th>paytmentStatus2</th>\n",
       "      <td>2000000</td>\n",
       "      <td>3</td>\n",
       "      <td>0</td>\n",
       "      <td>0.1474</td>\n",
       "      <td>0.4279</td>\n",
       "      <td>0.0000</td>\n",
       "      <td>0.0000</td>\n",
       "      <td>0.0000</td>\n",
       "      <td>0.0000</td>\n",
       "      <td>2.0000</td>\n",
       "    </tr>\n",
       "    <tr>\n",
       "      <th>paytmentStatus3</th>\n",
       "      <td>2000000</td>\n",
       "      <td>3</td>\n",
       "      <td>0</td>\n",
       "      <td>0.1896</td>\n",
       "      <td>0.5054</td>\n",
       "      <td>0.0000</td>\n",
       "      <td>0.0000</td>\n",
       "      <td>0.0000</td>\n",
       "      <td>0.0000</td>\n",
       "      <td>2.0000</td>\n",
       "    </tr>\n",
       "    <tr>\n",
       "      <th>paytmentStatus4</th>\n",
       "      <td>2000000</td>\n",
       "      <td>3</td>\n",
       "      <td>0</td>\n",
       "      <td>0.2686</td>\n",
       "      <td>0.6169</td>\n",
       "      <td>0.0000</td>\n",
       "      <td>0.0000</td>\n",
       "      <td>0.0000</td>\n",
       "      <td>0.0000</td>\n",
       "      <td>2.0000</td>\n",
       "    </tr>\n",
       "  </tbody>\n",
       "</table>\n",
       "</div>"
      ],
      "text/plain": [
       "                   count   unique  missing           mean          std  \\\n",
       "transactionID    2000000  2000000        0 1,000,000.5000 577,350.4135   \n",
       "shopID           2000000      900        0       549.2549     259.8474   \n",
       "customerID       2000000   490534        0            NaN          NaN   \n",
       "price            2000000      198        0       101.5293      57.1758   \n",
       "paytmentStatus1  2000000        3        0         0.1176       0.3607   \n",
       "paytmentStatus2  2000000        3        0         0.1474       0.4279   \n",
       "paytmentStatus3  2000000        3        0         0.1896       0.5054   \n",
       "paytmentStatus4  2000000        3        0         0.2686       0.6169   \n",
       "\n",
       "                     min          25%            50%            75%  \\\n",
       "transactionID     1.0000 500,000.7500 1,000,000.5000 1,500,000.2500   \n",
       "shopID          100.0000     324.0000       549.0000       774.0000   \n",
       "customerID           NaN          NaN            NaN            NaN   \n",
       "price             3.0000      52.0000       102.0000       151.0000   \n",
       "paytmentStatus1   0.0000       0.0000         0.0000         0.0000   \n",
       "paytmentStatus2   0.0000       0.0000         0.0000         0.0000   \n",
       "paytmentStatus3   0.0000       0.0000         0.0000         0.0000   \n",
       "paytmentStatus4   0.0000       0.0000         0.0000         0.0000   \n",
       "\n",
       "                           max  \n",
       "transactionID   2,000,000.0000  \n",
       "shopID                999.0000  \n",
       "customerID                 NaN  \n",
       "price                 200.0000  \n",
       "paytmentStatus1         2.0000  \n",
       "paytmentStatus2         2.0000  \n",
       "paytmentStatus3         2.0000  \n",
       "paytmentStatus4         2.0000  "
      ]
     },
     "execution_count": 6,
     "metadata": {},
     "output_type": "execute_result"
    }
   ],
   "source": [
    "describe_plus(transactions)"
   ]
  },
  {
   "cell_type": "markdown",
   "id": "19fc7c02",
   "metadata": {},
   "source": [
    "Detect and filter out those transactions whose Customer ID are missing"
   ]
  },
  {
   "cell_type": "code",
   "execution_count": 7,
   "id": "806ebab0",
   "metadata": {},
   "outputs": [
    {
     "data": {
      "text/plain": [
       "          20017\n",
       "61875        16\n",
       "270525       16\n",
       "47943        15\n",
       "110021       15\n",
       "Name: customerID, dtype: int64"
      ]
     },
     "execution_count": 7,
     "metadata": {},
     "output_type": "execute_result"
    }
   ],
   "source": [
    "transactions['customerID'].value_counts()[0:5]"
   ]
  },
  {
   "cell_type": "code",
   "execution_count": 8,
   "id": "f0883625",
   "metadata": {},
   "outputs": [],
   "source": [
    "transactions = transactions.loc[transactions['customerID'] != transactions['customerID'].value_counts().index[0]].copy()\n",
    "transactions['customerID'] = transactions['customerID'].astype(int)"
   ]
  },
  {
   "cell_type": "markdown",
   "id": "fdd30143",
   "metadata": {},
   "source": [
    "# Create application data with features"
   ]
  },
  {
   "cell_type": "markdown",
   "id": "c850aac8",
   "metadata": {},
   "source": [
    "Last transaction of each customer was selected with trans_index = 1 condition at the end. That was the last step of the whole select, because it was easier to create features from historical transactions this way instead of left joins later."
   ]
  },
  {
   "cell_type": "code",
   "execution_count": 9,
   "id": "98f33900",
   "metadata": {},
   "outputs": [
    {
     "name": "stdout",
     "output_type": "stream",
     "text": [
      "Running time was 1.3 min.\n"
     ]
    }
   ],
   "source": [
    "start = timer()\n",
    "\n",
    "applications = psql.sqldf(\"\"\"\n",
    "\n",
    "with base as (\n",
    "\n",
    "select tr3.*,\n",
    "cu1.sex, cu1.age, cu1.residentialAddress, cu1.postalAddress,\n",
    "coalesce(cu1.income,-999) as income from\n",
    "(\n",
    "    select tr2.*,\n",
    "    \n",
    "    AVG(price) OVER(PARTITION BY customerID ORDER BY trans_index range between 1 following and 3 following) as trans_price_avg_lst3,\n",
    "    MIN(price) OVER(PARTITION BY customerID ORDER BY trans_index range between 1 following and 3 following) as trans_price_min_lst3,\n",
    "    MAX(price) OVER(PARTITION BY customerID ORDER BY trans_index range between 1 following and 3 following) as trans_price_max_lst3,\n",
    "    COUNT(1) OVER(PARTITION BY customerID ORDER BY trans_index range between 1 following and 3 following) as trans_index_lst3,\n",
    "    \n",
    "    AVG(paid_1_fl) OVER(PARTITION BY customerID ORDER BY trans_index range between 1 following and 3 following) as paid_1_avg_lst3,\n",
    "    AVG(paid_2_fl) OVER(PARTITION BY customerID ORDER BY trans_index range between 1 following and 3 following) as paid_2_avg_lst3,\n",
    "    AVG(paid_3_fl) OVER(PARTITION BY customerID ORDER BY trans_index range between 1 following and 3 following) as paid_3_avg_lst3,\n",
    "    AVG(paid_4_fl) OVER(PARTITION BY customerID ORDER BY trans_index range between 1 following and 3 following) as paid_4_avg_lst3,\n",
    "    \n",
    "    AVG(late_1_fl) OVER(PARTITION BY customerID ORDER BY trans_index range between 1 following and 3 following) as late_1_avg_lst3,\n",
    "    AVG(late_2_fl) OVER(PARTITION BY customerID ORDER BY trans_index range between 1 following and 3 following) as late_2_avg_lst3,\n",
    "    AVG(late_3_fl) OVER(PARTITION BY customerID ORDER BY trans_index range between 1 following and 3 following) as late_3_avg_lst3,\n",
    "    AVG(late_4_fl) OVER(PARTITION BY customerID ORDER BY trans_index range between 1 following and 3 following) as late_4_avg_lst3,\n",
    "    \n",
    "    AVG(default_1_fl) OVER(PARTITION BY customerID ORDER BY trans_index range between 1 following and 3 following) as default_1_avg_lst3,\n",
    "    AVG(default_2_fl) OVER(PARTITION BY customerID ORDER BY trans_index range between 1 following and 3 following) as default_2_avg_lst3,\n",
    "    AVG(default_3_fl) OVER(PARTITION BY customerID ORDER BY trans_index range between 1 following and 3 following) as default_3_avg_lst3,\n",
    "    AVG(default_4_fl) OVER(PARTITION BY customerID ORDER BY trans_index range between 1 following and 3 following) as default_4_avg_lst3,\n",
    "    \n",
    "    MAX(defaulted_fl) OVER(PARTITION BY customerID ORDER BY trans_index range between 1 following and 3 following) as defaulted_lst3\n",
    "    \n",
    "    from\n",
    "    \n",
    "    (\n",
    "        select tr1.*, \n",
    "        ROW_NUMBER() OVER(PARTITION BY customerID ORDER BY transactionID DESC) as trans_index,\n",
    "        \n",
    "        CASE WHEN paytmentStatus1 = 0 then 1 else 0 end as paid_1_fl,\n",
    "        CASE WHEN paytmentStatus2 = 0 then 1 else 0 end as paid_2_fl,\n",
    "        CASE WHEN paytmentStatus3 = 0 then 1 else 0 end as paid_3_fl,\n",
    "        CASE WHEN paytmentStatus4 = 0 then 1 else 0 end as paid_4_fl,\n",
    "        \n",
    "        CASE WHEN paytmentStatus1 = 1 then 1 else 0 end as late_1_fl,\n",
    "        CASE WHEN paytmentStatus2 = 1 then 1 else 0 end as late_2_fl,\n",
    "        CASE WHEN paytmentStatus3 = 1 then 1 else 0 end as late_3_fl,\n",
    "        CASE WHEN paytmentStatus4 = 1 then 1 else 0 end as late_4_fl,\n",
    "        \n",
    "        CASE WHEN paytmentStatus1 = 2 then 1 else 0 end as default_1_fl,\n",
    "        CASE WHEN paytmentStatus2 = 2 then 1 else 0 end as default_2_fl,\n",
    "        CASE WHEN paytmentStatus3 = 2 then 1 else 0 end as default_3_fl,\n",
    "        CASE WHEN paytmentStatus4 = 2 then 1 else 0 end as default_4_fl,        \n",
    "        \n",
    "        CASE WHEN paytmentStatus1 = 2 or \n",
    "                  paytmentStatus2 = 2 or\n",
    "                  paytmentStatus3 = 2 or\n",
    "                  paytmentStatus4 = 2\n",
    "        then 1 else 0 end as defaulted_fl\n",
    "\n",
    "        from transactions tr1\n",
    "        \n",
    "    ) tr2\n",
    "    \n",
    ") tr3 inner join customers cu1\n",
    "\n",
    "on tr3.customerID = cu1.customerID\n",
    "\n",
    ")\n",
    "\n",
    "\n",
    "select b1.*, s1.shops_nr_lst3\n",
    "\n",
    "from base b1 left join\n",
    "(\n",
    "\n",
    "    select customerID, count(distinct shopID) as shops_nr_lst3 \n",
    "    from base \n",
    "    where trans_index > 1 and trans_index <= 4\n",
    "    group by customerID\n",
    "\n",
    ") s1\n",
    "\n",
    "on b1.customerID = s1.customerID\n",
    "\n",
    "where b1.trans_index = 1\n",
    "\n",
    "\"\"\")\n",
    "\n",
    "end = timer()\n",
    "\n",
    "print('Running time was '+str(round(((end - start)/60),1))+' min.')"
   ]
  },
  {
   "cell_type": "markdown",
   "id": "64857ed1",
   "metadata": {},
   "source": [
    "# Dependency of Sex and Age"
   ]
  },
  {
   "cell_type": "markdown",
   "id": "442c89c3",
   "metadata": {},
   "source": [
    "Visualize the distribution of variable Age"
   ]
  },
  {
   "cell_type": "code",
   "execution_count": 10,
   "id": "ca4c6438",
   "metadata": {},
   "outputs": [
    {
     "data": {
      "image/png": "[encoded data removed]",
      "text/plain": [
       "<Figure size 576x288 with 1 Axes>"
      ]
     },
     "metadata": {},
     "output_type": "display_data"
    }
   ],
   "source": [
    "plt.figure(figsize=(8,4))\n",
    "ax = sns.histplot(customers['age'], bins=15)\n",
    "plt.show()"
   ]
  },
  {
   "cell_type": "markdown",
   "id": "24027bd8",
   "metadata": {},
   "source": [
    "Visualize the distribution of variable Sex"
   ]
  },
  {
   "cell_type": "code",
   "execution_count": 11,
   "id": "680ac13a",
   "metadata": {},
   "outputs": [
    {
     "data": {
      "image/png": "[encoded data removed]",
      "text/plain": [
       "<Figure size 576x288 with 1 Axes>"
      ]
     },
     "metadata": {},
     "output_type": "display_data"
    }
   ],
   "source": [
    "plt.figure(figsize=(8,4))\n",
    "ax = sns.countplot(data=customers, x=\"sex\", order=[0,1,2])\n",
    "plt.show()"
   ]
  },
  {
   "cell_type": "markdown",
   "id": "9453c0c5",
   "metadata": {},
   "source": [
    "Categorize variable Age into equal-sized buckets to check statistical dependency with variable Sex."
   ]
  },
  {
   "cell_type": "code",
   "execution_count": 12,
   "id": "4d206dde",
   "metadata": {},
   "outputs": [],
   "source": [
    "customers['age_cat'] = pd.qcut(customers['age'], 10, labels=range(0,10)).astype(int)"
   ]
  },
  {
   "cell_type": "markdown",
   "id": "705cc167",
   "metadata": {},
   "source": [
    "Spearman correlation shows no dependence between Sex and categorized Age."
   ]
  },
  {
   "cell_type": "code",
   "execution_count": 13,
   "id": "ca05f19a",
   "metadata": {},
   "outputs": [
    {
     "data": {
      "text/plain": [
       "0.001798375085358017"
      ]
     },
     "execution_count": 13,
     "metadata": {},
     "output_type": "execute_result"
    }
   ],
   "source": [
    "from scipy.stats import spearmanr\n",
    "spearmanr(customers['sex'], customers['age_cat'])[0]"
   ]
  },
  {
   "cell_type": "markdown",
   "id": "ce5f72b1",
   "metadata": {},
   "source": [
    "Based on ANOVA test the null hypothesis (there is no difference in means) has to be rejected.\n",
    "\n",
    "Sex and Age variables significantly independent from each other on the level of 95%."
   ]
  },
  {
   "cell_type": "code",
   "execution_count": 14,
   "id": "e500ef21",
   "metadata": {},
   "outputs": [
    {
     "data": {
      "text/plain": [
       "F_onewayResult(statistic=3781397.612811474, pvalue=0.0)"
      ]
     },
     "execution_count": 14,
     "metadata": {},
     "output_type": "execute_result"
    }
   ],
   "source": [
    "from scipy.stats import f_oneway\n",
    "f_oneway(customers['sex'], customers['age'])"
   ]
  },
  {
   "cell_type": "markdown",
   "id": "a9137243",
   "metadata": {},
   "source": [
    "# Find customer segments"
   ]
  },
  {
   "cell_type": "markdown",
   "id": "182b67ea",
   "metadata": {},
   "source": [
    "Create features from residential address and postal address by taking the type of them"
   ]
  },
  {
   "cell_type": "code",
   "execution_count": 15,
   "id": "92ce4cf5",
   "metadata": {},
   "outputs": [
    {
     "data": {
      "text/plain": [
       "1 Aaron Place          1\n",
       "1 Abbeyfeale Street    1\n",
       "1 Abbotsford Place     1\n",
       "1 Abbott Street        2\n",
       "1 Aberdeen Place       2\n",
       "Name: residentialAddress, dtype: int64"
      ]
     },
     "execution_count": 15,
     "metadata": {},
     "output_type": "execute_result"
    }
   ],
   "source": [
    "customers['residentialAddress'].value_counts(dropna=False).sort_index()[0:5]"
   ]
  },
  {
   "cell_type": "code",
   "execution_count": 16,
   "id": "fdfae1a6",
   "metadata": {},
   "outputs": [
    {
     "data": {
      "text/plain": [
       "                       9946\n",
       "1 Aaron Place             1\n",
       "1 Abbeyfeale Street       1\n",
       "1 Abbotsford Place        1\n",
       "1 Abbott Street           2\n",
       "Name: postalAddress, dtype: int64"
      ]
     },
     "execution_count": 16,
     "metadata": {},
     "output_type": "execute_result"
    }
   ],
   "source": [
    "customers['postalAddress'].value_counts(dropna=False).sort_index()[0:5]"
   ]
  },
  {
   "cell_type": "code",
   "execution_count": 17,
   "id": "67de5ddb",
   "metadata": {},
   "outputs": [],
   "source": [
    "customers['res_address_type'] = customers['residentialAddress'].apply(lambda x: x.split()[-1].capitalize())\n",
    "customers['post_address_type'] = np.where(customers['postalAddress']==customers['postalAddress'].value_counts().index[0], 'Missing', customers['postalAddress'])\n",
    "customers['post_address_type'] = customers['post_address_type'].apply(lambda x: x.split()[-1].capitalize())"
   ]
  },
  {
   "cell_type": "code",
   "execution_count": 18,
   "id": "8e254549",
   "metadata": {},
   "outputs": [
    {
     "data": {
      "text/plain": [
       "Street   0.5859\n",
       "Place    0.1023\n",
       "Road     0.0932\n",
       "Close    0.0467\n",
       "Court    0.0453\n",
       "Name: res_address_type, dtype: float64"
      ]
     },
     "execution_count": 18,
     "metadata": {},
     "output_type": "execute_result"
    }
   ],
   "source": [
    "customers['res_address_type'].value_counts(normalize=True, dropna=False)[0:5]"
   ]
  },
  {
   "cell_type": "code",
   "execution_count": 19,
   "id": "99c35972",
   "metadata": {},
   "outputs": [
    {
     "data": {
      "text/plain": [
       "Street   0.5736\n",
       "Place    0.1001\n",
       "Road     0.0916\n",
       "Close    0.0458\n",
       "Court    0.0444\n",
       "Name: post_address_type, dtype: float64"
      ]
     },
     "execution_count": 19,
     "metadata": {},
     "output_type": "execute_result"
    }
   ],
   "source": [
    "customers['post_address_type'].value_counts(normalize=True, dropna=False)[0:5]"
   ]
  },
  {
   "cell_type": "markdown",
   "id": "f0e87c68",
   "metadata": {},
   "source": [
    "Create categories from address types"
   ]
  },
  {
   "cell_type": "code",
   "execution_count": 20,
   "id": "2e8aa6a1",
   "metadata": {},
   "outputs": [],
   "source": [
    "type_map = {'Street': 0, 'Place': 1, 'Road': 2, 'Missing': -1}\n",
    "\n",
    "customers['res_address_type'] = customers['res_address_type'].map(type_map).fillna(3).astype(int)\n",
    "customers['post_address_type'] = customers['post_address_type'].map(type_map).fillna(3).astype(int)"
   ]
  },
  {
   "cell_type": "markdown",
   "id": "e88ea7ca",
   "metadata": {},
   "source": [
    "##### In order to reduce the running time a subsample has to be created"
   ]
  },
  {
   "cell_type": "code",
   "execution_count": 21,
   "id": "10c95cc1",
   "metadata": {},
   "outputs": [],
   "source": [
    "customers_subsample = train_test_split(customers, train_size=0.25, random_state=523)[0]"
   ]
  },
  {
   "cell_type": "markdown",
   "id": "2be2d825",
   "metadata": {},
   "source": [
    "Create dummy variables from categorical variables"
   ]
  },
  {
   "cell_type": "code",
   "execution_count": 22,
   "id": "657cb75d",
   "metadata": {},
   "outputs": [],
   "source": [
    "dummy_vars = ['sex', 'res_address_type', 'post_address_type']\n",
    "\n",
    "customers_subsample = customers_subsample.join(pd.get_dummies(customers_subsample[dummy_vars], columns=dummy_vars)).copy()\n",
    "customers_subsample['income'].fillna(-999, inplace=True)"
   ]
  },
  {
   "cell_type": "markdown",
   "id": "ce8c3f20",
   "metadata": {},
   "source": [
    "Standardize features by removing the mean and scaling to unit variance"
   ]
  },
  {
   "cell_type": "markdown",
   "id": "c5124c08",
   "metadata": {},
   "source": [
    "Using only customer-related features because not every customer has transactional history"
   ]
  },
  {
   "cell_type": "code",
   "execution_count": 23,
   "id": "b08e9338",
   "metadata": {},
   "outputs": [],
   "source": [
    "from sklearn.preprocessing import StandardScaler\n",
    "\n",
    "scaler = StandardScaler()\n",
    "sc_features = ['age', 'income'] + list(customers_subsample.columns[9:])\n",
    "scaler.fit(customers_subsample[sc_features])\n",
    "\n",
    "customers_subsample = customers_subsample.join(pd.DataFrame(scaler.transform(customers_subsample[sc_features]),\n",
    "                                        index=customers_subsample.index, columns=['Scaled_'+f for f in sc_features]))"
   ]
  },
  {
   "cell_type": "markdown",
   "id": "de68815c",
   "metadata": {},
   "source": [
    "Choose the number of clusters in KMeans algorithm based on the Elbow Method"
   ]
  },
  {
   "cell_type": "code",
   "execution_count": 24,
   "id": "cdd38037",
   "metadata": {},
   "outputs": [
    {
     "data": {
      "image/png": "[encoded data removed]",
      "text/plain": [
       "<Figure size 432x288 with 1 Axes>"
      ]
     },
     "metadata": {},
     "output_type": "display_data"
    }
   ],
   "source": [
    "from sklearn.cluster import KMeans\n",
    "\n",
    "wcss = []\n",
    "\n",
    "for i in range(1, 11):\n",
    "    kmeans = KMeans(n_clusters=i)\n",
    "    kmeans.fit(customers_subsample[['Scaled_'+f for f in sc_features]])\n",
    "    wcss.append(kmeans.inertia_)\n",
    "    \n",
    "plt.plot(range(1, 11), wcss)\n",
    "\n",
    "plt.title('Elbow Method')\n",
    "plt.xlabel('Number of clusters')\n",
    "plt.ylabel('WCSS')\n",
    "\n",
    "plt.show()"
   ]
  },
  {
   "cell_type": "markdown",
   "id": "9414bb96",
   "metadata": {},
   "source": [
    "The number of clusters parameter has selected as 4 based on the previous graph.\n",
    "\n",
    "Measure the goodness of fit by Silhouette Score."
   ]
  },
  {
   "cell_type": "code",
   "execution_count": 25,
   "id": "fed64762",
   "metadata": {},
   "outputs": [
    {
     "data": {
      "text/plain": [
       "0.45786032066066584"
      ]
     },
     "execution_count": 25,
     "metadata": {},
     "output_type": "execute_result"
    }
   ],
   "source": [
    "kmeans = KMeans(n_clusters=4, random_state=523)\n",
    "kmeans.fit(customers_subsample[['Scaled_'+f for f in sc_features]])\n",
    "customers_subsample['cluster'] = kmeans.predict(customers_subsample[['Scaled_'+f for f in sc_features]])\n",
    "\n",
    "from sklearn.metrics import silhouette_score\n",
    "\n",
    "silhouette_score(customers_subsample[['Scaled_'+f for f in sc_features]], customers_subsample['cluster'])"
   ]
  },
  {
   "cell_type": "code",
   "execution_count": 26,
   "id": "2805a3f8",
   "metadata": {},
   "outputs": [
    {
     "data": {
      "text/html": [
       "<div>\n",
       "<style scoped>\n",
       "    .dataframe tbody tr th:only-of-type {\n",
       "        vertical-align: middle;\n",
       "    }\n",
       "\n",
       "    .dataframe tbody tr th {\n",
       "        vertical-align: top;\n",
       "    }\n",
       "\n",
       "    .dataframe thead th {\n",
       "        text-align: right;\n",
       "    }\n",
       "</style>\n",
       "<table border=\"1\" class=\"dataframe\">\n",
       "  <thead>\n",
       "    <tr style=\"text-align: right;\">\n",
       "      <th></th>\n",
       "      <th>customerID</th>\n",
       "      <th>cluster</th>\n",
       "    </tr>\n",
       "  </thead>\n",
       "  <tbody>\n",
       "    <tr>\n",
       "      <th>262182</th>\n",
       "      <td>262183</td>\n",
       "      <td>0</td>\n",
       "    </tr>\n",
       "    <tr>\n",
       "      <th>283547</th>\n",
       "      <td>283548</td>\n",
       "      <td>0</td>\n",
       "    </tr>\n",
       "    <tr>\n",
       "      <th>196827</th>\n",
       "      <td>196828</td>\n",
       "      <td>1</td>\n",
       "    </tr>\n",
       "    <tr>\n",
       "      <th>348159</th>\n",
       "      <td>348160</td>\n",
       "      <td>3</td>\n",
       "    </tr>\n",
       "    <tr>\n",
       "      <th>176614</th>\n",
       "      <td>176615</td>\n",
       "      <td>0</td>\n",
       "    </tr>\n",
       "  </tbody>\n",
       "</table>\n",
       "</div>"
      ],
      "text/plain": [
       "        customerID  cluster\n",
       "262182      262183        0\n",
       "283547      283548        0\n",
       "196827      196828        1\n",
       "348159      348160        3\n",
       "176614      176615        0"
      ]
     },
     "execution_count": 26,
     "metadata": {},
     "output_type": "execute_result"
    }
   ],
   "source": [
    "customers_subsample[['customerID', 'cluster']].head()"
   ]
  },
  {
   "cell_type": "markdown",
   "id": "157617af",
   "metadata": {},
   "source": [
    "# Exploratory analysis and model fitting"
   ]
  },
  {
   "cell_type": "markdown",
   "id": "6e3e335e",
   "metadata": {},
   "source": [
    "Join previously created customer-related features to applications"
   ]
  },
  {
   "cell_type": "code",
   "execution_count": 27,
   "id": "704f0fb4",
   "metadata": {},
   "outputs": [],
   "source": [
    "applications = applications.merge(customers[['customerID']+customers.columns[7:].tolist()],\n",
    "                   how='left', left_on='customerID', right_on='customerID').copy()"
   ]
  },
  {
   "cell_type": "markdown",
   "id": "67a05175",
   "metadata": {},
   "source": [
    "##### In order to reduce the running time a subsample has to be created"
   ]
  },
  {
   "cell_type": "code",
   "execution_count": 28,
   "id": "76458280",
   "metadata": {},
   "outputs": [],
   "source": [
    "applications_subsample = train_test_split(applications, train_size=0.25, random_state=523, stratify=applications['defaulted_fl'])[0]"
   ]
  },
  {
   "cell_type": "markdown",
   "id": "7e4d8750",
   "metadata": {},
   "source": [
    "A stratified train-test splitting applied on the subsample"
   ]
  },
  {
   "cell_type": "code",
   "execution_count": 29,
   "id": "6943f3ab",
   "metadata": {},
   "outputs": [],
   "source": [
    "train_data, test_data = train_test_split(applications_subsample, test_size=0.3, \n",
    "                                         random_state=523, stratify=applications_subsample['defaulted_fl'])"
   ]
  },
  {
   "cell_type": "markdown",
   "id": "c466d6d1",
   "metadata": {},
   "source": [
    "### Feature engineering"
   ]
  },
  {
   "cell_type": "markdown",
   "id": "39d371be",
   "metadata": {},
   "source": [
    "#### Create grouped variables based on Weight of Evidence"
   ]
  },
  {
   "cell_type": "markdown",
   "id": "fdb45240",
   "metadata": {},
   "source": [
    "The weight of evidence shows the predictive power of a variable in connection with the target variable.\n",
    "\n",
    "In credit risk scorecard developing it is a measure of the separation of defaulted and non-defaulted clients."
   ]
  },
  {
   "cell_type": "code",
   "execution_count": 30,
   "id": "dbe1897a",
   "metadata": {},
   "outputs": [],
   "source": [
    "features = list(train_data.columns[22:41])+['price']+list(train_data.columns[43:47])"
   ]
  },
  {
   "cell_type": "markdown",
   "id": "fcda5c80",
   "metadata": {},
   "source": [
    "Handle categorical features by decoding values with Weight of Evidence"
   ]
  },
  {
   "cell_type": "code",
   "execution_count": 31,
   "id": "44c5bcb9",
   "metadata": {},
   "outputs": [],
   "source": [
    "features_cat = ['sex', 'res_address_type', 'post_address_type']"
   ]
  },
  {
   "cell_type": "code",
   "execution_count": 32,
   "id": "71b9a029",
   "metadata": {},
   "outputs": [],
   "source": [
    "for df in [train_data, test_data]:\n",
    "    \n",
    "    df[features_cat] = df[features_cat].apply(lambda x: x.astype('str'))"
   ]
  },
  {
   "cell_type": "code",
   "execution_count": 33,
   "id": "d228fb79",
   "metadata": {},
   "outputs": [],
   "source": [
    "%run -i py/01_decode_cat_vars.py"
   ]
  },
  {
   "cell_type": "code",
   "execution_count": 34,
   "id": "719ff37a",
   "metadata": {},
   "outputs": [
    {
     "data": {
      "text/html": [
       "<div>\n",
       "<style scoped>\n",
       "    .dataframe tbody tr th:only-of-type {\n",
       "        vertical-align: middle;\n",
       "    }\n",
       "\n",
       "    .dataframe tbody tr th {\n",
       "        vertical-align: top;\n",
       "    }\n",
       "\n",
       "    .dataframe thead th {\n",
       "        text-align: right;\n",
       "    }\n",
       "</style>\n",
       "<table border=\"1\" class=\"dataframe\">\n",
       "  <thead>\n",
       "    <tr style=\"text-align: right;\">\n",
       "      <th></th>\n",
       "      <th>DEC_sex</th>\n",
       "      <th>DEC_res_address_type</th>\n",
       "      <th>DEC_post_address_type</th>\n",
       "    </tr>\n",
       "  </thead>\n",
       "  <tbody>\n",
       "    <tr>\n",
       "      <th>306050</th>\n",
       "      <td>0.2097</td>\n",
       "      <td>0.0107</td>\n",
       "      <td>-0.0214</td>\n",
       "    </tr>\n",
       "    <tr>\n",
       "      <th>14342</th>\n",
       "      <td>0.2097</td>\n",
       "      <td>0.0194</td>\n",
       "      <td>0.0083</td>\n",
       "    </tr>\n",
       "    <tr>\n",
       "      <th>376751</th>\n",
       "      <td>0.2097</td>\n",
       "      <td>0.0194</td>\n",
       "      <td>0.0083</td>\n",
       "    </tr>\n",
       "    <tr>\n",
       "      <th>336002</th>\n",
       "      <td>0.2097</td>\n",
       "      <td>0.0205</td>\n",
       "      <td>0.0321</td>\n",
       "    </tr>\n",
       "    <tr>\n",
       "      <th>168474</th>\n",
       "      <td>-0.4683</td>\n",
       "      <td>0.0205</td>\n",
       "      <td>0.0321</td>\n",
       "    </tr>\n",
       "  </tbody>\n",
       "</table>\n",
       "</div>"
      ],
      "text/plain": [
       "        DEC_sex  DEC_res_address_type  DEC_post_address_type\n",
       "306050   0.2097                0.0107                -0.0214\n",
       "14342    0.2097                0.0194                 0.0083\n",
       "376751   0.2097                0.0194                 0.0083\n",
       "336002   0.2097                0.0205                 0.0321\n",
       "168474  -0.4683                0.0205                 0.0321"
      ]
     },
     "execution_count": 34,
     "metadata": {},
     "output_type": "execute_result"
    }
   ],
   "source": [
    "train_data.iloc[:,-3:].head()"
   ]
  },
  {
   "cell_type": "code",
   "execution_count": 35,
   "id": "ce155e83",
   "metadata": {},
   "outputs": [
    {
     "data": {
      "text/html": [
       "<div>\n",
       "<style scoped>\n",
       "    .dataframe tbody tr th:only-of-type {\n",
       "        vertical-align: middle;\n",
       "    }\n",
       "\n",
       "    .dataframe tbody tr th {\n",
       "        vertical-align: top;\n",
       "    }\n",
       "\n",
       "    .dataframe thead th {\n",
       "        text-align: right;\n",
       "    }\n",
       "</style>\n",
       "<table border=\"1\" class=\"dataframe\">\n",
       "  <thead>\n",
       "    <tr style=\"text-align: right;\">\n",
       "      <th></th>\n",
       "      <th>DEC_sex</th>\n",
       "      <th>DEC_res_address_type</th>\n",
       "      <th>DEC_post_address_type</th>\n",
       "    </tr>\n",
       "  </thead>\n",
       "  <tbody>\n",
       "    <tr>\n",
       "      <th>368441</th>\n",
       "      <td>0.2097</td>\n",
       "      <td>0.0205</td>\n",
       "      <td>0.0321</td>\n",
       "    </tr>\n",
       "    <tr>\n",
       "      <th>93880</th>\n",
       "      <td>0.2097</td>\n",
       "      <td>0.0194</td>\n",
       "      <td>0.0083</td>\n",
       "    </tr>\n",
       "    <tr>\n",
       "      <th>327481</th>\n",
       "      <td>-0.4683</td>\n",
       "      <td>0.0194</td>\n",
       "      <td>0.0083</td>\n",
       "    </tr>\n",
       "    <tr>\n",
       "      <th>216206</th>\n",
       "      <td>-0.4774</td>\n",
       "      <td>-0.0124</td>\n",
       "      <td>-0.0048</td>\n",
       "    </tr>\n",
       "    <tr>\n",
       "      <th>53453</th>\n",
       "      <td>0.2097</td>\n",
       "      <td>-0.0124</td>\n",
       "      <td>-0.0048</td>\n",
       "    </tr>\n",
       "  </tbody>\n",
       "</table>\n",
       "</div>"
      ],
      "text/plain": [
       "        DEC_sex  DEC_res_address_type  DEC_post_address_type\n",
       "368441   0.2097                0.0205                 0.0321\n",
       "93880    0.2097                0.0194                 0.0083\n",
       "327481  -0.4683                0.0194                 0.0083\n",
       "216206  -0.4774               -0.0124                -0.0048\n",
       "53453    0.2097               -0.0124                -0.0048"
      ]
     },
     "execution_count": 35,
     "metadata": {},
     "output_type": "execute_result"
    }
   ],
   "source": [
    "test_data.iloc[:,-3:].head()"
   ]
  },
  {
   "cell_type": "markdown",
   "id": "aee59abd",
   "metadata": {},
   "source": [
    "**Fine classing** is the following step from the process of Credit Risk Scorecard building.\n",
    "\n",
    "Create equally-sized binned variables, if it is possible. Otherwise use the raw values (categories) as bins.\n",
    "\n",
    "In this task 20 bins created for all of the variables."
   ]
  },
  {
   "cell_type": "code",
   "execution_count": 36,
   "id": "df0a11f1",
   "metadata": {},
   "outputs": [],
   "source": [
    "%run -i py/02_fine_class.py"
   ]
  },
  {
   "cell_type": "markdown",
   "id": "9cf71b18",
   "metadata": {},
   "source": [
    "Keep only those variables where the Information Value is greater than 0.02"
   ]
  },
  {
   "cell_type": "code",
   "execution_count": 37,
   "id": "322fc1d6",
   "metadata": {},
   "outputs": [],
   "source": [
    "features_fine = list(x[4:] for x in fine_ivgini.loc[fine_ivgini['iv'] >= 0.02].sort_values(by='iv',ascending=False).reset_index(drop=True)['variable_name'])"
   ]
  },
  {
   "cell_type": "code",
   "execution_count": 38,
   "id": "728417db",
   "metadata": {},
   "outputs": [
    {
     "data": {
      "text/html": [
       "<div>\n",
       "<style scoped>\n",
       "    .dataframe tbody tr th:only-of-type {\n",
       "        vertical-align: middle;\n",
       "    }\n",
       "\n",
       "    .dataframe tbody tr th {\n",
       "        vertical-align: top;\n",
       "    }\n",
       "\n",
       "    .dataframe thead th {\n",
       "        text-align: right;\n",
       "    }\n",
       "</style>\n",
       "<table border=\"1\" class=\"dataframe\">\n",
       "  <thead>\n",
       "    <tr style=\"text-align: right;\">\n",
       "      <th></th>\n",
       "      <th>orig_name</th>\n",
       "      <th>grp_name</th>\n",
       "      <th>grp</th>\n",
       "      <th>cnt</th>\n",
       "      <th>bad</th>\n",
       "      <th>good</th>\n",
       "      <th>min</th>\n",
       "      <th>max</th>\n",
       "      <th>pct_total</th>\n",
       "      <th>pct_bad</th>\n",
       "      <th>pct_good</th>\n",
       "      <th>target_rate</th>\n",
       "      <th>woe</th>\n",
       "      <th>iv</th>\n",
       "    </tr>\n",
       "  </thead>\n",
       "  <tbody>\n",
       "    <tr>\n",
       "      <th>0</th>\n",
       "      <td>trans_price_avg_lst3</td>\n",
       "      <td>GRP_trans_price_avg_lst3</td>\n",
       "      <td>0</td>\n",
       "      <td>3952</td>\n",
       "      <td>326</td>\n",
       "      <td>3626</td>\n",
       "      <td>3.0000</td>\n",
       "      <td>35.0000</td>\n",
       "      <td>0.0469</td>\n",
       "      <td>0.0421</td>\n",
       "      <td>0.0473</td>\n",
       "      <td>0.0825</td>\n",
       "      <td>0.1186</td>\n",
       "      <td>0.0006</td>\n",
       "    </tr>\n",
       "    <tr>\n",
       "      <th>1</th>\n",
       "      <td>trans_price_avg_lst3</td>\n",
       "      <td>GRP_trans_price_avg_lst3</td>\n",
       "      <td>1</td>\n",
       "      <td>3849</td>\n",
       "      <td>310</td>\n",
       "      <td>3539</td>\n",
       "      <td>35.3333</td>\n",
       "      <td>49.6667</td>\n",
       "      <td>0.0456</td>\n",
       "      <td>0.0400</td>\n",
       "      <td>0.0462</td>\n",
       "      <td>0.0805</td>\n",
       "      <td>0.1446</td>\n",
       "      <td>0.0009</td>\n",
       "    </tr>\n",
       "    <tr>\n",
       "      <th>2</th>\n",
       "      <td>trans_price_avg_lst3</td>\n",
       "      <td>GRP_trans_price_avg_lst3</td>\n",
       "      <td>2</td>\n",
       "      <td>4114</td>\n",
       "      <td>372</td>\n",
       "      <td>3742</td>\n",
       "      <td>50.0000</td>\n",
       "      <td>60.0000</td>\n",
       "      <td>0.0488</td>\n",
       "      <td>0.0480</td>\n",
       "      <td>0.0489</td>\n",
       "      <td>0.0904</td>\n",
       "      <td>0.0181</td>\n",
       "      <td>0.0000</td>\n",
       "    </tr>\n",
       "    <tr>\n",
       "      <th>3</th>\n",
       "      <td>trans_price_avg_lst3</td>\n",
       "      <td>GRP_trans_price_avg_lst3</td>\n",
       "      <td>3</td>\n",
       "      <td>3897</td>\n",
       "      <td>375</td>\n",
       "      <td>3522</td>\n",
       "      <td>60.3333</td>\n",
       "      <td>68.0000</td>\n",
       "      <td>0.0462</td>\n",
       "      <td>0.0484</td>\n",
       "      <td>0.0460</td>\n",
       "      <td>0.0962</td>\n",
       "      <td>-0.0505</td>\n",
       "      <td>0.0001</td>\n",
       "    </tr>\n",
       "    <tr>\n",
       "      <th>4</th>\n",
       "      <td>trans_price_avg_lst3</td>\n",
       "      <td>GRP_trans_price_avg_lst3</td>\n",
       "      <td>4</td>\n",
       "      <td>3755</td>\n",
       "      <td>363</td>\n",
       "      <td>3392</td>\n",
       "      <td>68.3333</td>\n",
       "      <td>74.6667</td>\n",
       "      <td>0.0445</td>\n",
       "      <td>0.0468</td>\n",
       "      <td>0.0443</td>\n",
       "      <td>0.0967</td>\n",
       "      <td>-0.0556</td>\n",
       "      <td>0.0001</td>\n",
       "    </tr>\n",
       "  </tbody>\n",
       "</table>\n",
       "</div>"
      ],
      "text/plain": [
       "              orig_name                  grp_name  grp   cnt  bad  good  \\\n",
       "0  trans_price_avg_lst3  GRP_trans_price_avg_lst3    0  3952  326  3626   \n",
       "1  trans_price_avg_lst3  GRP_trans_price_avg_lst3    1  3849  310  3539   \n",
       "2  trans_price_avg_lst3  GRP_trans_price_avg_lst3    2  4114  372  3742   \n",
       "3  trans_price_avg_lst3  GRP_trans_price_avg_lst3    3  3897  375  3522   \n",
       "4  trans_price_avg_lst3  GRP_trans_price_avg_lst3    4  3755  363  3392   \n",
       "\n",
       "      min     max  pct_total  pct_bad  pct_good  target_rate     woe     iv  \n",
       "0  3.0000 35.0000     0.0469   0.0421    0.0473       0.0825  0.1186 0.0006  \n",
       "1 35.3333 49.6667     0.0456   0.0400    0.0462       0.0805  0.1446 0.0009  \n",
       "2 50.0000 60.0000     0.0488   0.0480    0.0489       0.0904  0.0181 0.0000  \n",
       "3 60.3333 68.0000     0.0462   0.0484    0.0460       0.0962 -0.0505 0.0001  \n",
       "4 68.3333 74.6667     0.0445   0.0468    0.0443       0.0967 -0.0556 0.0001  "
      ]
     },
     "execution_count": 38,
     "metadata": {},
     "output_type": "execute_result"
    }
   ],
   "source": [
    "fine_stats.head()"
   ]
  },
  {
   "cell_type": "code",
   "execution_count": 39,
   "id": "61e0c586",
   "metadata": {},
   "outputs": [
    {
     "data": {
      "text/html": [
       "<div>\n",
       "<style scoped>\n",
       "    .dataframe tbody tr th:only-of-type {\n",
       "        vertical-align: middle;\n",
       "    }\n",
       "\n",
       "    .dataframe tbody tr th {\n",
       "        vertical-align: top;\n",
       "    }\n",
       "\n",
       "    .dataframe thead th {\n",
       "        text-align: right;\n",
       "    }\n",
       "</style>\n",
       "<table border=\"1\" class=\"dataframe\">\n",
       "  <thead>\n",
       "    <tr style=\"text-align: right;\">\n",
       "      <th></th>\n",
       "      <th>variable_name</th>\n",
       "      <th>iv</th>\n",
       "      <th>gini</th>\n",
       "    </tr>\n",
       "  </thead>\n",
       "  <tbody>\n",
       "    <tr>\n",
       "      <th>0</th>\n",
       "      <td>GRP_default_4_avg_lst3</td>\n",
       "      <td>0.2226</td>\n",
       "      <td>0.1629</td>\n",
       "    </tr>\n",
       "    <tr>\n",
       "      <th>0</th>\n",
       "      <td>GRP_defaulted_lst3</td>\n",
       "      <td>0.1602</td>\n",
       "      <td>0.1504</td>\n",
       "    </tr>\n",
       "    <tr>\n",
       "      <th>0</th>\n",
       "      <td>GRP_default_3_avg_lst3</td>\n",
       "      <td>0.1536</td>\n",
       "      <td>0.1154</td>\n",
       "    </tr>\n",
       "    <tr>\n",
       "      <th>0</th>\n",
       "      <td>GRP_paid_4_avg_lst3</td>\n",
       "      <td>0.1209</td>\n",
       "      <td>0.1464</td>\n",
       "    </tr>\n",
       "    <tr>\n",
       "      <th>0</th>\n",
       "      <td>GRP_default_2_avg_lst3</td>\n",
       "      <td>0.1067</td>\n",
       "      <td>0.0783</td>\n",
       "    </tr>\n",
       "  </tbody>\n",
       "</table>\n",
       "</div>"
      ],
      "text/plain": [
       "            variable_name     iv   gini\n",
       "0  GRP_default_4_avg_lst3 0.2226 0.1629\n",
       "0      GRP_defaulted_lst3 0.1602 0.1504\n",
       "0  GRP_default_3_avg_lst3 0.1536 0.1154\n",
       "0     GRP_paid_4_avg_lst3 0.1209 0.1464\n",
       "0  GRP_default_2_avg_lst3 0.1067 0.0783"
      ]
     },
     "execution_count": 39,
     "metadata": {},
     "output_type": "execute_result"
    }
   ],
   "source": [
    "fine_ivgini.sort_values(by='iv', ascending=False).head()"
   ]
  },
  {
   "cell_type": "markdown",
   "id": "09376099",
   "metadata": {},
   "source": [
    "**Coarse classing** is the next step from the process of Credit Risk Scorecard building.\n",
    "\n",
    "Merge adjacent bins of the previously created grouped variables in the Fine classing step.\n",
    "\n",
    "I wanted to merge and create 5 bins at maximum but it depended on the splitting algorithm. The goal is to choose the best *monotonous* merged version from all of the variables with the highest Information Value."
   ]
  },
  {
   "cell_type": "code",
   "execution_count": 40,
   "id": "02104086",
   "metadata": {},
   "outputs": [],
   "source": [
    "%run -i py/03_coarse_class.py"
   ]
  },
  {
   "cell_type": "markdown",
   "id": "2c7e9bdb",
   "metadata": {},
   "source": [
    "Keep only those variables where the Information Value is greater 0.02 and the merged groups are monotonous."
   ]
  },
  {
   "cell_type": "code",
   "execution_count": 41,
   "id": "05d15efa",
   "metadata": {},
   "outputs": [],
   "source": [
    "features_coarse = ['C3_default_4_avg_lst3', 'C2_defaulted_lst3', 'C2_default_3_avg_lst3',\n",
    "                   'C4_paid_4_avg_lst3', 'C2_default_2_avg_lst3', 'C2_DEC_sex',\n",
    "                   'C3_paid_3_avg_lst3', 'C3_paid_2_avg_lst3']\n",
    "\n",
    "miss_dict = {}\n",
    "for var in features_coarse:\n",
    "    \n",
    "    miss_dict[var] = -1"
   ]
  },
  {
   "cell_type": "code",
   "execution_count": 42,
   "id": "b3b04025",
   "metadata": {},
   "outputs": [
    {
     "data": {
      "text/html": [
       "<div>\n",
       "<style scoped>\n",
       "    .dataframe tbody tr th:only-of-type {\n",
       "        vertical-align: middle;\n",
       "    }\n",
       "\n",
       "    .dataframe tbody tr th {\n",
       "        vertical-align: top;\n",
       "    }\n",
       "\n",
       "    .dataframe thead th {\n",
       "        text-align: right;\n",
       "    }\n",
       "</style>\n",
       "<table border=\"1\" class=\"dataframe\">\n",
       "  <thead>\n",
       "    <tr style=\"text-align: right;\">\n",
       "      <th></th>\n",
       "      <th>orig_name</th>\n",
       "      <th>grp_name</th>\n",
       "      <th>grp</th>\n",
       "      <th>cnt</th>\n",
       "      <th>bad</th>\n",
       "      <th>good</th>\n",
       "      <th>min</th>\n",
       "      <th>max</th>\n",
       "      <th>pct_total</th>\n",
       "      <th>pct_bad</th>\n",
       "      <th>pct_good</th>\n",
       "      <th>target_rate</th>\n",
       "      <th>woe</th>\n",
       "      <th>iv</th>\n",
       "    </tr>\n",
       "  </thead>\n",
       "  <tbody>\n",
       "    <tr>\n",
       "      <th>0</th>\n",
       "      <td>default_4_avg_lst3</td>\n",
       "      <td>C2_default_4_avg_lst3</td>\n",
       "      <td>0</td>\n",
       "      <td>72040</td>\n",
       "      <td>5,735.0000</td>\n",
       "      <td>66,305.0000</td>\n",
       "      <td>0.0000</td>\n",
       "      <td>0.3333</td>\n",
       "      <td>0.8542</td>\n",
       "      <td>0.7398</td>\n",
       "      <td>0.8658</td>\n",
       "      <td>0.0796</td>\n",
       "      <td>0.1573</td>\n",
       "      <td>0.0198</td>\n",
       "    </tr>\n",
       "    <tr>\n",
       "      <th>1</th>\n",
       "      <td>default_4_avg_lst3</td>\n",
       "      <td>C2_default_4_avg_lst3</td>\n",
       "      <td>1</td>\n",
       "      <td>5878</td>\n",
       "      <td>1,401.0000</td>\n",
       "      <td>4,477.0000</td>\n",
       "      <td>0.5000</td>\n",
       "      <td>1.0000</td>\n",
       "      <td>0.0697</td>\n",
       "      <td>0.1807</td>\n",
       "      <td>0.0585</td>\n",
       "      <td>0.2383</td>\n",
       "      <td>-1.1286</td>\n",
       "      <td>0.1380</td>\n",
       "    </tr>\n",
       "    <tr>\n",
       "      <th>2</th>\n",
       "      <td>default_4_avg_lst3</td>\n",
       "      <td>C2_default_4_avg_lst3</td>\n",
       "      <td>-1</td>\n",
       "      <td>6414</td>\n",
       "      <td>616.0000</td>\n",
       "      <td>5,798.0000</td>\n",
       "      <td>NaN</td>\n",
       "      <td>NaN</td>\n",
       "      <td>0.0761</td>\n",
       "      <td>0.0795</td>\n",
       "      <td>0.0757</td>\n",
       "      <td>0.0960</td>\n",
       "      <td>-0.0484</td>\n",
       "      <td>0.0002</td>\n",
       "    </tr>\n",
       "    <tr>\n",
       "      <th>0</th>\n",
       "      <td>default_4_avg_lst3</td>\n",
       "      <td>C3_default_4_avg_lst3</td>\n",
       "      <td>0</td>\n",
       "      <td>62971</td>\n",
       "      <td>4,593.0000</td>\n",
       "      <td>58,378.0000</td>\n",
       "      <td>0.0000</td>\n",
       "      <td>0.0000</td>\n",
       "      <td>0.7467</td>\n",
       "      <td>0.5925</td>\n",
       "      <td>0.7623</td>\n",
       "      <td>0.0729</td>\n",
       "      <td>0.2520</td>\n",
       "      <td>0.0428</td>\n",
       "    </tr>\n",
       "    <tr>\n",
       "      <th>1</th>\n",
       "      <td>default_4_avg_lst3</td>\n",
       "      <td>C3_default_4_avg_lst3</td>\n",
       "      <td>1</td>\n",
       "      <td>9069</td>\n",
       "      <td>1,142.0000</td>\n",
       "      <td>7,927.0000</td>\n",
       "      <td>0.3333</td>\n",
       "      <td>0.3333</td>\n",
       "      <td>0.1075</td>\n",
       "      <td>0.1473</td>\n",
       "      <td>0.1035</td>\n",
       "      <td>0.1259</td>\n",
       "      <td>-0.3529</td>\n",
       "      <td>0.0155</td>\n",
       "    </tr>\n",
       "  </tbody>\n",
       "</table>\n",
       "</div>"
      ],
      "text/plain": [
       "            orig_name               grp_name  grp    cnt        bad  \\\n",
       "0  default_4_avg_lst3  C2_default_4_avg_lst3    0  72040 5,735.0000   \n",
       "1  default_4_avg_lst3  C2_default_4_avg_lst3    1   5878 1,401.0000   \n",
       "2  default_4_avg_lst3  C2_default_4_avg_lst3   -1   6414   616.0000   \n",
       "0  default_4_avg_lst3  C3_default_4_avg_lst3    0  62971 4,593.0000   \n",
       "1  default_4_avg_lst3  C3_default_4_avg_lst3    1   9069 1,142.0000   \n",
       "\n",
       "         good    min    max  pct_total  pct_bad  pct_good  target_rate  \\\n",
       "0 66,305.0000 0.0000 0.3333     0.8542   0.7398    0.8658       0.0796   \n",
       "1  4,477.0000 0.5000 1.0000     0.0697   0.1807    0.0585       0.2383   \n",
       "2  5,798.0000    NaN    NaN     0.0761   0.0795    0.0757       0.0960   \n",
       "0 58,378.0000 0.0000 0.0000     0.7467   0.5925    0.7623       0.0729   \n",
       "1  7,927.0000 0.3333 0.3333     0.1075   0.1473    0.1035       0.1259   \n",
       "\n",
       "      woe     iv  \n",
       "0  0.1573 0.0198  \n",
       "1 -1.1286 0.1380  \n",
       "2 -0.0484 0.0002  \n",
       "0  0.2520 0.0428  \n",
       "1 -0.3529 0.0155  "
      ]
     },
     "execution_count": 42,
     "metadata": {},
     "output_type": "execute_result"
    }
   ],
   "source": [
    "coarse_stats.head()"
   ]
  },
  {
   "cell_type": "code",
   "execution_count": 43,
   "id": "ad81e786",
   "metadata": {},
   "outputs": [
    {
     "data": {
      "text/html": [
       "<div>\n",
       "<style scoped>\n",
       "    .dataframe tbody tr th:only-of-type {\n",
       "        vertical-align: middle;\n",
       "    }\n",
       "\n",
       "    .dataframe tbody tr th {\n",
       "        vertical-align: top;\n",
       "    }\n",
       "\n",
       "    .dataframe thead th {\n",
       "        text-align: right;\n",
       "    }\n",
       "</style>\n",
       "<table border=\"1\" class=\"dataframe\">\n",
       "  <thead>\n",
       "    <tr style=\"text-align: right;\">\n",
       "      <th></th>\n",
       "      <th>variable_name</th>\n",
       "      <th>iv</th>\n",
       "      <th>gini</th>\n",
       "      <th>monotonous_woe</th>\n",
       "    </tr>\n",
       "  </thead>\n",
       "  <tbody>\n",
       "    <tr>\n",
       "      <th>0</th>\n",
       "      <td>C3_default_4_avg_lst3</td>\n",
       "      <td>0.1964</td>\n",
       "      <td>0.1604</td>\n",
       "      <td>1</td>\n",
       "    </tr>\n",
       "    <tr>\n",
       "      <th>0</th>\n",
       "      <td>C2_defaulted_lst3</td>\n",
       "      <td>0.1602</td>\n",
       "      <td>0.1504</td>\n",
       "      <td>1</td>\n",
       "    </tr>\n",
       "    <tr>\n",
       "      <th>0</th>\n",
       "      <td>C2_default_4_avg_lst3</td>\n",
       "      <td>0.1580</td>\n",
       "      <td>0.1095</td>\n",
       "      <td>1</td>\n",
       "    </tr>\n",
       "    <tr>\n",
       "      <th>0</th>\n",
       "      <td>C2_default_3_avg_lst3</td>\n",
       "      <td>0.1275</td>\n",
       "      <td>0.1120</td>\n",
       "      <td>1</td>\n",
       "    </tr>\n",
       "    <tr>\n",
       "      <th>0</th>\n",
       "      <td>C4_paid_4_avg_lst3</td>\n",
       "      <td>0.1183</td>\n",
       "      <td>0.1453</td>\n",
       "      <td>1</td>\n",
       "    </tr>\n",
       "  </tbody>\n",
       "</table>\n",
       "</div>"
      ],
      "text/plain": [
       "           variable_name     iv   gini  monotonous_woe\n",
       "0  C3_default_4_avg_lst3 0.1964 0.1604               1\n",
       "0      C2_defaulted_lst3 0.1602 0.1504               1\n",
       "0  C2_default_4_avg_lst3 0.1580 0.1095               1\n",
       "0  C2_default_3_avg_lst3 0.1275 0.1120               1\n",
       "0     C4_paid_4_avg_lst3 0.1183 0.1453               1"
      ]
     },
     "execution_count": 43,
     "metadata": {},
     "output_type": "execute_result"
    }
   ],
   "source": [
    "coarse_ivgini.sort_values(by='iv', ascending=False).head()"
   ]
  },
  {
   "cell_type": "markdown",
   "id": "1529bc38",
   "metadata": {},
   "source": [
    "Create Weight of Evidence-decoded variables on the train sample and transfer them to the test sample"
   ]
  },
  {
   "cell_type": "code",
   "execution_count": 44,
   "id": "ef838a48",
   "metadata": {},
   "outputs": [],
   "source": [
    "%run -i py/04_woe_transfer.py"
   ]
  },
  {
   "cell_type": "markdown",
   "id": "b6523a1d",
   "metadata": {},
   "source": [
    "### Feature selection"
   ]
  },
  {
   "cell_type": "markdown",
   "id": "53a911e0",
   "metadata": {},
   "source": [
    "#### Correlation analysis of WoE-transformed variables"
   ]
  },
  {
   "cell_type": "code",
   "execution_count": 45,
   "id": "f81cb7f8",
   "metadata": {},
   "outputs": [],
   "source": [
    "%run -i py/05_correlation.py"
   ]
  },
  {
   "cell_type": "markdown",
   "id": "3a7866fc",
   "metadata": {},
   "source": [
    "Correlation matrix with the variables in descending order based on Information Value"
   ]
  },
  {
   "cell_type": "code",
   "execution_count": 46,
   "id": "a927c151",
   "metadata": {},
   "outputs": [
    {
     "data": {
      "image/png": "[encoded data removed]",
      "text/plain": [
       "<Figure size 864x432 with 2 Axes>"
      ]
     },
     "metadata": {},
     "output_type": "display_data"
    }
   ],
   "source": [
    "corr_plot(train_data, ['W_'+x for x in features_coarse], method='spearman')"
   ]
  },
  {
   "cell_type": "markdown",
   "id": "28be3eef",
   "metadata": {},
   "source": [
    "Filter out those variables from highly correlated pairs (higher than 0.6) who have lower Information Value"
   ]
  },
  {
   "cell_type": "code",
   "execution_count": 47,
   "id": "cec26762",
   "metadata": {},
   "outputs": [],
   "source": [
    "features_woe_corr = filter_by_corr(train_data, ['W_'+x for x in features_coarse], 'spearman', threshold=0.6)"
   ]
  },
  {
   "cell_type": "markdown",
   "id": "d4304a82",
   "metadata": {},
   "source": [
    "- Train sample"
   ]
  },
  {
   "cell_type": "code",
   "execution_count": 48,
   "id": "ad3df8f1",
   "metadata": {},
   "outputs": [
    {
     "data": {
      "image/png": "[encoded data removed]",
      "text/plain": [
       "<Figure size 864x432 with 2 Axes>"
      ]
     },
     "metadata": {},
     "output_type": "display_data"
    }
   ],
   "source": [
    "corr_plot(train_data, features_woe_corr, method='spearman')"
   ]
  },
  {
   "cell_type": "markdown",
   "id": "f10dd272",
   "metadata": {},
   "source": [
    "- Test sample"
   ]
  },
  {
   "cell_type": "code",
   "execution_count": 49,
   "id": "841dfd48",
   "metadata": {},
   "outputs": [
    {
     "data": {
      "image/png": "[encoded data removed]",
      "text/plain": [
       "<Figure size 864x432 with 2 Axes>"
      ]
     },
     "metadata": {},
     "output_type": "display_data"
    }
   ],
   "source": [
    "corr_plot(test_data, features_woe_corr, method='spearman')"
   ]
  },
  {
   "cell_type": "markdown",
   "id": "ec1c5238",
   "metadata": {},
   "source": [
    "#### Create dummy variables"
   ]
  },
  {
   "cell_type": "code",
   "execution_count": 50,
   "id": "ce332937",
   "metadata": {},
   "outputs": [],
   "source": [
    "train_data = train_data.join(pd.get_dummies(train_data[features_cat], drop_first=True))\n",
    "test_data = test_data.join(pd.get_dummies(test_data[features_cat], drop_first=True))"
   ]
  },
  {
   "cell_type": "markdown",
   "id": "bf2fab47",
   "metadata": {},
   "source": [
    "#### Correlation analysis of continuous and dummy variables"
   ]
  },
  {
   "cell_type": "markdown",
   "id": "058327b9",
   "metadata": {},
   "source": [
    "Variable in descending order by their correlation with the target variable"
   ]
  },
  {
   "cell_type": "code",
   "execution_count": 51,
   "id": "a933197b",
   "metadata": {},
   "outputs": [],
   "source": [
    "features_dummy = list(train_data.columns[96:])\n",
    "features_cont = list(train_data.columns[22:39])+['age','price']+list(train_data.columns[43:45])"
   ]
  },
  {
   "cell_type": "markdown",
   "id": "72c19325",
   "metadata": {},
   "source": [
    "Handle missing continous variables"
   ]
  },
  {
   "cell_type": "code",
   "execution_count": 52,
   "id": "b4834966",
   "metadata": {},
   "outputs": [],
   "source": [
    "train_data[features_cont] = train_data[features_cont].fillna(0)\n",
    "test_data[features_cont] = test_data[features_cont].fillna(0)"
   ]
  },
  {
   "cell_type": "code",
   "execution_count": 53,
   "id": "3b80e4f5",
   "metadata": {},
   "outputs": [
    {
     "data": {
      "text/html": [
       "<div>\n",
       "<style scoped>\n",
       "    .dataframe tbody tr th:only-of-type {\n",
       "        vertical-align: middle;\n",
       "    }\n",
       "\n",
       "    .dataframe tbody tr th {\n",
       "        vertical-align: top;\n",
       "    }\n",
       "\n",
       "    .dataframe thead th {\n",
       "        text-align: right;\n",
       "    }\n",
       "</style>\n",
       "<table border=\"1\" class=\"dataframe\">\n",
       "  <thead>\n",
       "    <tr style=\"text-align: right;\">\n",
       "      <th></th>\n",
       "      <th>CorrelationWithDefaultedFL</th>\n",
       "    </tr>\n",
       "  </thead>\n",
       "  <tbody>\n",
       "    <tr>\n",
       "      <th>default_4_avg_lst3</th>\n",
       "      <td>0.1585</td>\n",
       "    </tr>\n",
       "    <tr>\n",
       "      <th>default_3_avg_lst3</th>\n",
       "      <td>0.1313</td>\n",
       "    </tr>\n",
       "    <tr>\n",
       "      <th>defaulted_lst3</th>\n",
       "      <td>0.1256</td>\n",
       "    </tr>\n",
       "    <tr>\n",
       "      <th>default_2_avg_lst3</th>\n",
       "      <td>0.1090</td>\n",
       "    </tr>\n",
       "    <tr>\n",
       "      <th>sex_1</th>\n",
       "      <td>0.0956</td>\n",
       "    </tr>\n",
       "    <tr>\n",
       "      <th>paid_4_avg_lst3</th>\n",
       "      <td>0.0859</td>\n",
       "    </tr>\n",
       "    <tr>\n",
       "      <th>sex_2</th>\n",
       "      <td>0.0825</td>\n",
       "    </tr>\n",
       "    <tr>\n",
       "      <th>default_1_avg_lst3</th>\n",
       "      <td>0.0741</td>\n",
       "    </tr>\n",
       "    <tr>\n",
       "      <th>paid_3_avg_lst3</th>\n",
       "      <td>0.0583</td>\n",
       "    </tr>\n",
       "    <tr>\n",
       "      <th>paid_2_avg_lst3</th>\n",
       "      <td>0.0355</td>\n",
       "    </tr>\n",
       "    <tr>\n",
       "      <th>late_4_avg_lst3</th>\n",
       "      <td>0.0218</td>\n",
       "    </tr>\n",
       "    <tr>\n",
       "      <th>paid_1_avg_lst3</th>\n",
       "      <td>0.0152</td>\n",
       "    </tr>\n",
       "    <tr>\n",
       "      <th>late_2_avg_lst3</th>\n",
       "      <td>0.0104</td>\n",
       "    </tr>\n",
       "    <tr>\n",
       "      <th>late_3_avg_lst3</th>\n",
       "      <td>0.0101</td>\n",
       "    </tr>\n",
       "    <tr>\n",
       "      <th>late_1_avg_lst3</th>\n",
       "      <td>0.0100</td>\n",
       "    </tr>\n",
       "  </tbody>\n",
       "</table>\n",
       "</div>"
      ],
      "text/plain": [
       "                    CorrelationWithDefaultedFL\n",
       "default_4_avg_lst3                      0.1585\n",
       "default_3_avg_lst3                      0.1313\n",
       "defaulted_lst3                          0.1256\n",
       "default_2_avg_lst3                      0.1090\n",
       "sex_1                                   0.0956\n",
       "paid_4_avg_lst3                         0.0859\n",
       "sex_2                                   0.0825\n",
       "default_1_avg_lst3                      0.0741\n",
       "paid_3_avg_lst3                         0.0583\n",
       "paid_2_avg_lst3                         0.0355\n",
       "late_4_avg_lst3                         0.0218\n",
       "paid_1_avg_lst3                         0.0152\n",
       "late_2_avg_lst3                         0.0104\n",
       "late_3_avg_lst3                         0.0101\n",
       "late_1_avg_lst3                         0.0100"
      ]
     },
     "execution_count": 53,
     "metadata": {},
     "output_type": "execute_result"
    }
   ],
   "source": [
    "pd.DataFrame(abs(train_data[['defaulted_fl']+features_dummy+features_cont].corr(method='pearson').iloc[1:,0]).sort_values(ascending=False)).rename(columns=({'defaulted_fl': 'CorrelationWithDefaultedFL'})).head(15)"
   ]
  },
  {
   "cell_type": "code",
   "execution_count": 54,
   "id": "9fc3e43d",
   "metadata": {},
   "outputs": [],
   "source": [
    "features_corr_sorted = abs(train_data[['defaulted_fl']+features_dummy+features_cont].corr(method='pearson').iloc[1:,0]).sort_values(ascending=False).index.tolist()"
   ]
  },
  {
   "cell_type": "code",
   "execution_count": 55,
   "id": "6473e33f",
   "metadata": {},
   "outputs": [],
   "source": [
    "features_corr_filt = filter_by_corr(train_data, features_corr_sorted, 'pearson')"
   ]
  },
  {
   "cell_type": "markdown",
   "id": "012d5842",
   "metadata": {},
   "source": [
    "- Train sample"
   ]
  },
  {
   "cell_type": "code",
   "execution_count": 56,
   "id": "03646877",
   "metadata": {},
   "outputs": [
    {
     "data": {
      "image/png": "[encoded data removed]",
      "text/plain": [
       "<Figure size 864x432 with 2 Axes>"
      ]
     },
     "metadata": {},
     "output_type": "display_data"
    }
   ],
   "source": [
    "corr_plot(train_data, features_corr_filt, method='pearson')"
   ]
  },
  {
   "cell_type": "markdown",
   "id": "c2c27754",
   "metadata": {},
   "source": [
    "- Test sample"
   ]
  },
  {
   "cell_type": "code",
   "execution_count": 57,
   "id": "19c8d40d",
   "metadata": {},
   "outputs": [
    {
     "data": {
      "image/png": "[encoded data removed]",
      "text/plain": [
       "<Figure size 864x432 with 2 Axes>"
      ]
     },
     "metadata": {},
     "output_type": "display_data"
    }
   ],
   "source": [
    "corr_plot(test_data, features_corr_filt, method='pearson')"
   ]
  },
  {
   "cell_type": "markdown",
   "id": "4b2ea016",
   "metadata": {},
   "source": [
    "### Model building"
   ]
  },
  {
   "cell_type": "markdown",
   "id": "88f46516",
   "metadata": {},
   "source": [
    "**Logistic regression** from Weight of Evidence-transformed variables"
   ]
  },
  {
   "cell_type": "code",
   "execution_count": 58,
   "id": "c20d22c1",
   "metadata": {},
   "outputs": [],
   "source": [
    "%run -i py/06_stepwise.py"
   ]
  },
  {
   "cell_type": "markdown",
   "id": "a046121b",
   "metadata": {},
   "source": [
    "- Stepwise variable selection for the model"
   ]
  },
  {
   "cell_type": "code",
   "execution_count": 59,
   "id": "5d276aae",
   "metadata": {},
   "outputs": [],
   "source": [
    "features_stepwise = stepwise_selection(train_data[features_woe_corr], train_data['defaulted_fl'])\n",
    "\n",
    "from sklearn.linear_model import LogisticRegression\n",
    "\n",
    "logreg = LogisticRegression().fit(train_data[features_stepwise], train_data['defaulted_fl'])"
   ]
  },
  {
   "cell_type": "markdown",
   "id": "1be594cb",
   "metadata": {},
   "source": [
    "**Logistic regression** from dummy and raw continuous variables"
   ]
  },
  {
   "cell_type": "markdown",
   "id": "00df450e",
   "metadata": {},
   "source": [
    "- Stepwise variable selection for the model"
   ]
  },
  {
   "cell_type": "code",
   "execution_count": 60,
   "id": "6c683720",
   "metadata": {},
   "outputs": [],
   "source": [
    "features_stepwise_v2 = stepwise_selection(train_data[features_corr_filt], train_data['defaulted_fl'])\n",
    "\n",
    "logreg_v2 = LogisticRegression().fit(train_data[features_stepwise_v2], train_data['defaulted_fl'])"
   ]
  },
  {
   "cell_type": "markdown",
   "id": "29ae79c8",
   "metadata": {},
   "source": [
    "#### Naive Bayes"
   ]
  },
  {
   "cell_type": "code",
   "execution_count": 61,
   "id": "ae7901a8",
   "metadata": {},
   "outputs": [],
   "source": [
    "from sklearn.naive_bayes import GaussianNB\n",
    "\n",
    "naive = GaussianNB().fit(train_data[features_corr_filt], train_data['defaulted_fl'])"
   ]
  },
  {
   "cell_type": "markdown",
   "id": "6c5dba4a",
   "metadata": {},
   "source": [
    "Standardize all features to a common scale in order for the algorithms to give equal weights in distance calculations"
   ]
  },
  {
   "cell_type": "code",
   "execution_count": 62,
   "id": "92235873",
   "metadata": {},
   "outputs": [],
   "source": [
    "from sklearn.preprocessing import StandardScaler\n",
    "\n",
    "scaler = StandardScaler()\n",
    "scaler.fit(train_data[features_corr_filt])\n",
    "\n",
    "train_data = train_data.join(pd.DataFrame(scaler.transform(train_data[features_corr_filt]), index=train_data.index, columns=['Scaled_'+f for f in features_corr_filt]))\n",
    "test_data = test_data.join(pd.DataFrame(scaler.transform(test_data[features_corr_filt]), index=test_data.index, columns=['Scaled_'+f for f in features_corr_filt]))"
   ]
  },
  {
   "cell_type": "markdown",
   "id": "8d051986",
   "metadata": {},
   "source": [
    "Using cross validation with weighted F1-scoring to find the best hyperparameters"
   ]
  },
  {
   "cell_type": "code",
   "execution_count": 63,
   "id": "e949ad36",
   "metadata": {},
   "outputs": [],
   "source": [
    "from sklearn.model_selection import cross_val_score\n",
    "from sklearn.model_selection import KFold\n",
    "from sklearn.model_selection import GridSearchCV\n",
    "from sklearn.metrics import f1_score\n",
    "\n",
    "def weighted_f1_scorer(model, X, y):\n",
    "    \n",
    "    scores = [f1_score(y,\n",
    "                       model.predict_proba(X)[:,1] >= t,\n",
    "                       average='weighted') for t in np.arange(0,1.05,0.05)]\n",
    "    \n",
    "    threshold = np.arange(0,1.05,0.05)[np.argmax(scores)]\n",
    "    \n",
    "    f = f1_score(y, np.where(model.predict_proba(X)[:,1] >= threshold, 1, 0), average='weighted')\n",
    "\n",
    "    return f\n",
    "\n",
    "cv = KFold(n_splits=3, random_state=523, shuffle=True)"
   ]
  },
  {
   "cell_type": "markdown",
   "id": "46fd839f",
   "metadata": {},
   "source": [
    "#### Decision Tree"
   ]
  },
  {
   "cell_type": "code",
   "execution_count": 64,
   "id": "bf01d366",
   "metadata": {},
   "outputs": [
    {
     "data": {
      "text/plain": [
       "{'criterion': 'gini', 'max_depth': 2, 'min_samples_leaf': 4216}"
      ]
     },
     "execution_count": 64,
     "metadata": {},
     "output_type": "execute_result"
    }
   ],
   "source": [
    "from sklearn.tree import DecisionTreeClassifier\n",
    "\n",
    "params = {'criterion': ['gini', 'entropy'], 'max_depth': [2,3,4], 'min_samples_leaf': [int(train_data.shape[0]*0.05)]}\n",
    "\n",
    "dtree_cv = GridSearchCV(DecisionTreeClassifier(),\n",
    "                        param_grid=params,\n",
    "                        cv=cv,\n",
    "                        scoring=weighted_f1_scorer).fit(train_data[features_corr_filt], train_data['defaulted_fl'])\n",
    "\n",
    "dtree_cv.best_params_"
   ]
  },
  {
   "cell_type": "markdown",
   "id": "8ba5d1b2",
   "metadata": {},
   "source": [
    "#### Random Forest"
   ]
  },
  {
   "cell_type": "code",
   "execution_count": 65,
   "id": "bc7254ce",
   "metadata": {},
   "outputs": [
    {
     "data": {
      "text/plain": [
       "{'criterion': 'entropy',\n",
       " 'max_depth': 3,\n",
       " 'min_samples_leaf': 4216,\n",
       " 'n_estimators': 50}"
      ]
     },
     "execution_count": 65,
     "metadata": {},
     "output_type": "execute_result"
    }
   ],
   "source": [
    "from sklearn.ensemble import RandomForestClassifier\n",
    "\n",
    "params = {'n_estimators': [50,60,70], 'criterion': ['gini','entropy'],\n",
    "          'max_depth': [2,3,4],'min_samples_leaf': [int(train_data.shape[0]*0.05)]}\n",
    "\n",
    "rf_cv = GridSearchCV(RandomForestClassifier(),\n",
    "                        param_grid=params,\n",
    "                        cv=cv,\n",
    "                        scoring=weighted_f1_scorer).fit(train_data[features_corr_filt], train_data['defaulted_fl'])\n",
    "\n",
    "rf_cv.best_params_"
   ]
  },
  {
   "cell_type": "markdown",
   "id": "fb10fdd5",
   "metadata": {},
   "source": [
    "#### Gradient Boosting Tree"
   ]
  },
  {
   "cell_type": "code",
   "execution_count": 66,
   "id": "81db3fe2",
   "metadata": {},
   "outputs": [
    {
     "data": {
      "text/plain": [
       "{'learning_rate': 0.15,\n",
       " 'max_depth': 3,\n",
       " 'min_samples_leaf': 4216,\n",
       " 'n_estimators': 40}"
      ]
     },
     "execution_count": 66,
     "metadata": {},
     "output_type": "execute_result"
    }
   ],
   "source": [
    "from sklearn.ensemble import GradientBoostingClassifier\n",
    "\n",
    "params = {'learning_rate': [0.1, 0.15, 0.20], \n",
    "              'n_estimators': [40,50,60], 'max_depth': [2,3,4],\n",
    "              'min_samples_leaf': [int(train_data.shape[0]*0.05)]}\n",
    "\n",
    "gbt_cv = GridSearchCV(GradientBoostingClassifier(),\n",
    "                        param_grid=params,\n",
    "                        cv=cv,\n",
    "                        scoring=weighted_f1_scorer).fit(train_data[features_corr_filt], train_data['defaulted_fl'])\n",
    "\n",
    "gbt_cv.best_params_"
   ]
  },
  {
   "cell_type": "markdown",
   "id": "78f875ea",
   "metadata": {},
   "source": [
    "### Model performances"
   ]
  },
  {
   "cell_type": "markdown",
   "id": "db1e8a0f",
   "metadata": {},
   "source": [
    "Because of the inbalanced dataset weighted F1-score will be used for model evaluation\n",
    "\n",
    "Model with the highest weighted F1-score on the test sample will be selected as final model."
   ]
  },
  {
   "cell_type": "code",
   "execution_count": 67,
   "id": "f3f41051",
   "metadata": {},
   "outputs": [],
   "source": [
    "def weighted_f1_perf(model, train, test, features, target):\n",
    "    \n",
    "    scores = [f1_score(train[target], model.predict_proba(train[features])[:,1] >= t,\n",
    "                       average='weighted') for t in np.arange(0,1.05,0.05)]\n",
    "    \n",
    "    threshold = np.arange(0,1.05,0.05)[np.argmax(scores)]\n",
    "    \n",
    "    f_train = f1_score(train[target], np.where(model.predict_proba(train[features])[:,1] >= threshold, 1, 0), average='weighted')\n",
    "    f_test = f1_score(test[target], np.where(model.predict_proba(test[features])[:,1] >= threshold, 1, 0), average='weighted')\n",
    "\n",
    "    return round(threshold,2), f_train, f_test"
   ]
  },
  {
   "cell_type": "code",
   "execution_count": 68,
   "id": "f39986e0",
   "metadata": {},
   "outputs": [],
   "source": [
    "performances = {}\n",
    "\n",
    "performances['LogisticRegression'] = weighted_f1_perf(logreg, train_data, test_data, features_stepwise, 'defaulted_fl')\n",
    "performances['LogisticRegressionV2'] = weighted_f1_perf(logreg_v2, train_data, test_data, features_stepwise_v2, 'defaulted_fl')\n",
    "\n",
    "performances['NaiveBayes'] = weighted_f1_perf(naive, train_data, test_data, features_corr_filt, 'defaulted_fl')\n",
    "\n",
    "performances['DecisionTree'] = weighted_f1_perf(dtree_cv, train_data, test_data, features_corr_filt, 'defaulted_fl')\n",
    "performances['RandomForest'] = weighted_f1_perf(rf_cv, train_data, test_data, features_corr_filt, 'defaulted_fl')\n",
    "performances['GradientBoostingTree'] = weighted_f1_perf(gbt_cv, train_data, test_data, features_corr_filt, 'defaulted_fl')"
   ]
  },
  {
   "cell_type": "code",
   "execution_count": 69,
   "id": "227bce45",
   "metadata": {},
   "outputs": [],
   "source": [
    "import operator\n",
    "\n",
    "perf_on_train = {}\n",
    "perf_on_test = {}\n",
    "\n",
    "for model in performances.keys():\n",
    "    \n",
    "    perf_on_train[model] = performances[model][1]\n",
    "    perf_on_test[model] = performances[model][2]\n",
    "\n",
    "perf_on_train = dict(sorted(perf_on_train.items(), key=operator.itemgetter(1),reverse=True))\n",
    "perf_on_test = dict(sorted(perf_on_test.items(), key=operator.itemgetter(1),reverse=True))"
   ]
  },
  {
   "cell_type": "markdown",
   "id": "8e68ece1",
   "metadata": {},
   "source": [
    "Visualize Weighted F1-score values of algorithms in both samples"
   ]
  },
  {
   "cell_type": "markdown",
   "id": "bf51d708",
   "metadata": {},
   "source": [
    "- Train sample"
   ]
  },
  {
   "cell_type": "code",
   "execution_count": 70,
   "id": "3aa85a9d",
   "metadata": {},
   "outputs": [
    {
     "data": {
      "image/png": "[encoded data removed]",
      "text/plain": [
       "<Figure size 720x432 with 1 Axes>"
      ]
     },
     "metadata": {},
     "output_type": "display_data"
    }
   ],
   "source": [
    "fig, ax = plt.subplots(1, 1, figsize=(10,6))\n",
    "ax.plot(list(perf_on_train.keys()), perf_on_train.values(), color='green', marker='o', ls=None)\n",
    "labels = ax.get_xticklabels()\n",
    "plt.setp(labels,rotation=45, horizontalalignment='center',fontsize=9)\n",
    "plt.title('Model performances on train sample')\n",
    "plt.show()"
   ]
  },
  {
   "cell_type": "markdown",
   "id": "d700e4e0",
   "metadata": {},
   "source": [
    "- Test sample"
   ]
  },
  {
   "cell_type": "code",
   "execution_count": 71,
   "id": "63673068",
   "metadata": {},
   "outputs": [
    {
     "data": {
      "image/png": "[encoded data removed]",
      "text/plain": [
       "<Figure size 720x432 with 1 Axes>"
      ]
     },
     "metadata": {},
     "output_type": "display_data"
    }
   ],
   "source": [
    "fig, ax = plt.subplots(1, 1, figsize=(10,6))\n",
    "ax.plot(list(perf_on_test.keys()), perf_on_test.values(), color='green', marker='o', ls=None)\n",
    "labels = ax.get_xticklabels()\n",
    "plt.setp(labels,rotation=45, horizontalalignment='center',fontsize=9)\n",
    "plt.title('Model performances on test sample')\n",
    "plt.show()"
   ]
  },
  {
   "cell_type": "markdown",
   "id": "288c9c65",
   "metadata": {},
   "source": [
    "Based on the model performances on test sample, Gradient Boosting Tree model is selected for final model."
   ]
  },
  {
   "cell_type": "markdown",
   "id": "5a26b40a",
   "metadata": {},
   "source": [
    "Binary classification report for the final model is below:"
   ]
  },
  {
   "cell_type": "code",
   "execution_count": 72,
   "id": "2bbdce1a",
   "metadata": {},
   "outputs": [
    {
     "name": "stdout",
     "output_type": "stream",
     "text": [
      "              precision    recall  f1-score   support\n",
      "\n",
      "           0       0.92      0.98      0.95     32821\n",
      "           1       0.33      0.11      0.17      3322\n",
      "\n",
      "    accuracy                           0.90     36143\n",
      "   macro avg       0.62      0.54      0.56     36143\n",
      "weighted avg       0.86      0.90      0.87     36143\n",
      "\n"
     ]
    }
   ],
   "source": [
    "from sklearn.metrics import classification_report\n",
    "\n",
    "print(classification_report(test_data['defaulted_fl'], \n",
    "                      np.where(gbt_cv.predict_proba(test_data[features_corr_filt])[:,1]\n",
    "                               >= performances['GradientBoostingTree'][0], 1, 0)))"
   ]
  }
 ],
 "metadata": {
  "kernelspec": {
   "display_name": "Python 3 (ipykernel)",
   "language": "python",
   "name": "python3"
  },
  "language_info": {
   "codemirror_mode": {
    "name": "ipython",
    "version": 3
   },
   "file_extension": ".py",
   "mimetype": "text/x-python",
   "name": "python",
   "nbconvert_exporter": "python",
   "pygments_lexer": "ipython3",
   "version": "3.9.12"
  }
 },
 "nbformat": 4,
 "nbformat_minor": 5
}
